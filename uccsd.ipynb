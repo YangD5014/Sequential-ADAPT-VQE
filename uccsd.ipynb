{
 "cells": [
  {
   "cell_type": "code",
   "execution_count": 5,
   "metadata": {},
   "outputs": [
    {
     "name": "stdout",
     "output_type": "stream",
     "text": [
      "Geometry: \n",
      " [['H', [0.0, 0.0, 0.0]], ['H', [0.0, 0.0, 1.0]]]\n",
      "FCI energy:  -1.1011503302326187 Ha\n",
      "ccsd:-1.1011503302444787.\n",
      "fci:-1.1011503302326187.\n"
     ]
    }
   ],
   "source": [
    "from openfermion.chem import MolecularData\n",
    "from openfermionpyscf import run_pyscf\n",
    "from mindquantum.core.gates import X\n",
    "from mindquantum.core.circuit import Circuit\n",
    "from mindquantum.core.operators import Hamiltonian\n",
    "from mindquantum.simulator import Simulator\n",
    "from mindquantum.algorithm.nisq import generate_uccsd\n",
    "import mindspore as ms\n",
    "\n",
    "ms.set_context(mode=ms.PYNATIVE_MODE, device_target=\"CPU\")\n",
    "dist = 1.0\n",
    "geometry = [\n",
    "    [\"H\", [0.0, 0.0, 0.0 * dist]],\n",
    "    [\"H\", [0.0, 0.0, 1.0 * dist]],\n",
    "]\n",
    "basis = \"sto3g\"\n",
    "spin = 0\n",
    "print(\"Geometry: \\n\", geometry)\n",
    "molecule_of = MolecularData(\n",
    "    geometry,\n",
    "    basis,\n",
    "    multiplicity=2 * spin + 1\n",
    ")\n",
    "molecule_of = run_pyscf(\n",
    "    molecule_of,\n",
    "    run_scf=1,\n",
    "    run_ccsd=1,\n",
    "    run_fci=1\n",
    ")\n",
    "print(\"FCI energy: %20.16f Ha\" % (molecule_of.fci_energy))\n",
    "hartreefock_wfn_circuit = Circuit([X.on(i) for i in range(molecule_of.n_electrons)])\n",
    "ansatz_circuit, \\\n",
    "init_amplitudes, \\\n",
    "ansatz_parameter_names, \\\n",
    "hamiltonian_QubitOp, \\\n",
    "n_qubits, n_electrons = generate_uccsd(molecule_of, threshold=-1)\n"
   ]
  },
  {
   "cell_type": "code",
   "execution_count": 6,
   "metadata": {},
   "outputs": [
    {
     "data": {
      "text/html": [
       "<pre style=\"white-space:pre;overflow-x:auto;line-height:normal;font-family:Menlo,'DejaVu Sans Mono',consolas,'Courier New',monospace\"><span style=\"color: #ff0000; text-decoration-color: #ff0000; font-weight: bold\">         Circuit Summary         </span>\n",
       "╭──────────────────────┬────────╮\n",
       "│<span style=\"font-weight: bold\"> </span><span style=\"color: #3b3b95; text-decoration-color: #3b3b95; font-weight: bold\">Info</span><span style=\"font-weight: bold\">                 </span>│<span style=\"font-weight: bold\"> </span><span style=\"color: #3b3b95; text-decoration-color: #3b3b95; font-weight: bold\">value</span><span style=\"font-weight: bold\">  </span>│\n",
       "├──────────────────────┼────────┤\n",
       "│ <span style=\"font-weight: bold\">Number of qubit</span>      │ 4      │\n",
       "├──────────────────────┼────────┤\n",
       "│ <span style=\"font-weight: bold\">Total number of gate</span> │ 158    │\n",
       "│ Barrier              │ 48     │\n",
       "│ Noise Channel        │ 0      │\n",
       "│ Measurement          │ 0      │\n",
       "├──────────────────────┼────────┤\n",
       "│ <span style=\"font-weight: bold\">Parameter gate</span>       │ 12     │\n",
       "│ 2 ansatz parameters  │ <span style=\"color: #48c9b0; text-decoration-color: #48c9b0\">p0, p1</span> │\n",
       "╰──────────────────────┴────────╯\n",
       "</pre>\n"
      ],
      "text/plain": [
       "\u001b[1;38;2;255;0;0m         Circuit Summary         \u001b[0m\n",
       "╭──────────────────────┬────────╮\n",
       "│\u001b[1m \u001b[0m\u001b[1;38;2;59;59;149mInfo\u001b[0m\u001b[1m                \u001b[0m\u001b[1m \u001b[0m│\u001b[1m \u001b[0m\u001b[1;38;2;59;59;149mvalue\u001b[0m\u001b[1m \u001b[0m\u001b[1m \u001b[0m│\n",
       "├──────────────────────┼────────┤\n",
       "│ \u001b[1mNumber of qubit\u001b[0m      │ 4      │\n",
       "├──────────────────────┼────────┤\n",
       "│ \u001b[1mTotal number of gate\u001b[0m │ 158    │\n",
       "│ Barrier              │ 48     │\n",
       "│ Noise Channel        │ 0      │\n",
       "│ Measurement          │ 0      │\n",
       "├──────────────────────┼────────┤\n",
       "│ \u001b[1mParameter gate\u001b[0m       │ 12     │\n",
       "│ 2 ansatz parameters  │ \u001b[38;2;72;201;176mp0, p1\u001b[0m │\n",
       "╰──────────────────────┴────────╯\n"
      ]
     },
     "metadata": {},
     "output_type": "display_data"
    },
    {
     "name": "stdout",
     "output_type": "stream",
     "text": [
      "Number of parameters: 2\n"
     ]
    }
   ],
   "source": [
    "total_circuit = hartreefock_wfn_circuit + ansatz_circuit\n",
    "total_circuit.summary()\n",
    "print(\"Number of parameters: %d\" % (len(ansatz_parameter_names)))"
   ]
  },
  {
   "cell_type": "code",
   "execution_count": null,
   "metadata": {},
   "outputs": [],
   "source": []
  }
 ],
 "metadata": {
  "kernelspec": {
   "display_name": "Python 3",
   "language": "python",
   "name": "python3"
  },
  "language_info": {
   "codemirror_mode": {
    "name": "ipython",
    "version": 3
   },
   "file_extension": ".py",
   "mimetype": "text/x-python",
   "name": "python",
   "nbconvert_exporter": "python",
   "pygments_lexer": "ipython3",
   "version": "3.9.19"
  }
 },
 "nbformat": 4,
 "nbformat_minor": 2
}
